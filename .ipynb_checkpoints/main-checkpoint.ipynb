{
 "cells": [
  {
   "cell_type": "code",
   "execution_count": 1,
   "metadata": {},
   "outputs": [],
   "source": [
    "# Importation de la bibliothèque NumPy pour les opérations numériques\n",
    "import numpy as np\n",
    "\n",
    "# Importation de la bibliothèque Pandas pour la manipulation et l'analyse des données\n",
    "import pandas as pd\n",
    "\n",
    "# Importation de la bibliothèque Matplotlib pour la visualisation des données\n",
    "import matplotlib.pyplot as plt\n",
    "\n",
    "# Importation de la fonction train_test_split de Scikit-learn pour diviser les données en ensembles d'entraînement et de test\n",
    "from sklearn.model_selection import train_test_split\n",
    "\n",
    "# Importation de la fonction accuracy_score de Scikit-learn pour évaluer la précision d'un modèle\n",
    "from sklearn.metrics import accuracy_score"
   ]
  },
  {
   "cell_type": "code",
   "execution_count": 5,
   "metadata": {},
   "outputs": [],
   "source": [
    "# Importation de la bibliothèque os pour interagir avec le système d'exploitation\n",
    "import os\n",
    "\n",
    "# Liste les fichiers et dossiers dans le répertoire spécifié\n",
    "path = os.listdir(\"Training\")\n",
    "\n",
    "# Dictionnaire pour mapper les classes de tumeurs à des valeurs numériques\n",
    "classes = {'no_tumor': 0, 'pitiutary_tumor': 1}"
   ]
  },
  {
   "cell_type": "code",
   "execution_count": 11,
   "metadata": {},
   "outputs": [
    {
     "ename": "FileNotFoundError",
     "evalue": "[WinError 3] The system cannot find the path specified: '../Training/no_tumor'",
     "output_type": "error",
     "traceback": [
      "\u001b[1;31m---------------------------------------------------------------------------\u001b[0m",
      "\u001b[1;31mFileNotFoundError\u001b[0m                         Traceback (most recent call last)",
      "Cell \u001b[1;32mIn[11], line 14\u001b[0m\n\u001b[0;32m     11\u001b[0m pth \u001b[38;5;241m=\u001b[39m \u001b[38;5;124m\"\u001b[39m\u001b[38;5;124m../Training\u001b[39m\u001b[38;5;124m\"\u001b[39m \u001b[38;5;241m+\u001b[39m \u001b[38;5;124m\"\u001b[39m\u001b[38;5;124m/\u001b[39m\u001b[38;5;124m\"\u001b[39m \u001b[38;5;241m+\u001b[39m \u001b[38;5;28mcls\u001b[39m \n\u001b[0;32m     13\u001b[0m \u001b[38;5;66;03m# Parcours de chaque fichier dans le dossier de la classe\u001b[39;00m\n\u001b[1;32m---> 14\u001b[0m \u001b[38;5;28;01mfor\u001b[39;00m j \u001b[38;5;129;01min\u001b[39;00m \u001b[43mos\u001b[49m\u001b[38;5;241;43m.\u001b[39;49m\u001b[43mlistdir\u001b[49m\u001b[43m(\u001b[49m\u001b[43mpth\u001b[49m\u001b[43m)\u001b[49m:\n\u001b[0;32m     15\u001b[0m     \u001b[38;5;66;03m# Lecture de l'image en niveaux de gris\u001b[39;00m\n\u001b[0;32m     16\u001b[0m     img \u001b[38;5;241m=\u001b[39m cv2\u001b[38;5;241m.\u001b[39mimread(pth \u001b[38;5;241m+\u001b[39m \u001b[38;5;124m'\u001b[39m\u001b[38;5;124m/\u001b[39m\u001b[38;5;124m'\u001b[39m \u001b[38;5;241m+\u001b[39m j, \u001b[38;5;241m0\u001b[39m)\n\u001b[0;32m     18\u001b[0m     \u001b[38;5;66;03m# Redimensionnement de l'image à 200x200 pixels\u001b[39;00m\n",
      "\u001b[1;31mFileNotFoundError\u001b[0m: [WinError 3] The system cannot find the path specified: '../Training/no_tumor'"
     ]
    }
   ],
   "source": [
    "# Importation de la bibliothèque OpenCV pour le traitement d'images\n",
    "import cv2\n",
    "\n",
    "# Initialisation des listes pour stocker les images et leurs étiquettes\n",
    "X = []\n",
    "Y = []\n",
    "\n",
    "# Parcours de chaque classe dans le dictionnaire des classes\n",
    "for cls in classes:\n",
    "    # Construction du chemin vers le dossier de la classe\n",
    "    pth = \"../Training\" + \"/\" + cls + \"/\"\n",
    "    \n",
    "    # Parcours de chaque fichier dans le dossier de la classe\n",
    "    for j in os.listdir(pth):\n",
    "        # Lecture de l'image en niveaux de gris\n",
    "        img = cv2.imread(pth + '/' + j, 0)\n",
    "        \n",
    "        # Redimensionnement de l'image à 200x200 pixels\n",
    "        img = cv2.resize(img, (200, 200))\n",
    "        \n",
    "        # Ajout de l'image à la liste X\n",
    "        X.append(img)\n",
    "        \n",
    "        # Ajout de l'étiquette correspondante à la liste Y\n",
    "        Y.append(classes[cls])\n"
   ]
  },
  {
   "cell_type": "code",
   "execution_count": null,
   "metadata": {},
   "outputs": [],
   "source": [
    "# Utilisation de la fonction unique de NumPy pour obtenir les valeurs uniques dans la liste Y\n",
    "np.unique(Y)"
   ]
  },
  {
   "cell_type": "code",
   "execution_count": null,
   "metadata": {},
   "outputs": [],
   "source": [
    "# Conversion de la liste X en un tableau NumPy\n",
    "X = np.array(X)\n",
    "\n",
    "# Conversion de la liste Y en un tableau NumPy\n",
    "Y = np.array(Y)"
   ]
  },
  {
   "cell_type": "code",
   "execution_count": null,
   "metadata": {},
   "outputs": [],
   "source": [
    "# Conversion du tableau Y en une série Pandas et comptage des occurrences de chaque valeur\n",
    "pd.Series(Y).value_counts()"
   ]
  },
  {
   "cell_type": "code",
   "execution_count": null,
   "metadata": {},
   "outputs": [],
   "source": [
    "# Affichage de la forme (dimensions) du tableau NumPy X\n",
    "X.shape"
   ]
  },
  {
   "cell_type": "code",
   "execution_count": null,
   "metadata": {},
   "outputs": [],
   "source": [
    "# Affichage de la première image du tableau X en niveaux de gris\n",
    "plt.imshow(X[0], cmap='gray')"
   ]
  },
  {
   "cell_type": "code",
   "execution_count": null,
   "metadata": {},
   "outputs": [],
   "source": [
    "# Redimensionnement du tableau X pour qu'il ait une forme de (nombre d'images, nombre de pixels par image)\n",
    "X_updated = X.reshape(len(X), -1)\n",
    "\n",
    "# Affichage de la nouvelle forme du tableau X_updated\n",
    "print(X_updated.shape)"
   ]
  },
  {
   "cell_type": "code",
   "execution_count": null,
   "metadata": {},
   "outputs": [],
   "source": [
    "# Division des données en ensembles d'entraînement et de test\n",
    "# 80% des données seront utilisées pour l'entraînement et 20% pour le test\n",
    "# random_state=10 garantit que la division des données est reproductible\n",
    "xtrain, xtest, ytrain, ytest = train_test_split(X_updated, Y, random_state=10, test_size=0.20)"
   ]
  },
  {
   "cell_type": "code",
   "execution_count": null,
   "metadata": {},
   "outputs": [],
   "source": [
    "# Affichage des formes des ensembles d'entraînement et de test\n",
    "xtrain.shape, xtest.shape"
   ]
  },
  {
   "cell_type": "code",
   "execution_count": null,
   "metadata": {},
   "outputs": [],
   "source": [
    "# Affichage des valeurs maximales et minimales de xtrain avant normalisation\n",
    "print(xtrain.max(), xtrain.min())\n",
    "\n",
    "# Affichage des valeurs maximales et minimales de xtest avant normalisation\n",
    "print(xtest.max(), xtest.min())\n",
    "\n",
    "# Normalisation des ensembles d'entraînement et de test en divisant par 255\n",
    "xtrain = xtrain / 255\n",
    "xtest = xtest / 255\n",
    "\n",
    "# Affichage des valeurs maximales et minimales de xtrain après normalisation\n",
    "print(xtrain.max(), xtrain.min())\n",
    "\n",
    "# Affichage des valeurs maximales et minimales de xtest après normalisation\n",
    "print(xtest.max(), xtest.min())"
   ]
  },
  {
   "cell_type": "code",
   "execution_count": null,
   "metadata": {},
   "outputs": [],
   "source": [
    "# Importation de la classe LogisticRegression de Scikit-learn pour la régression logistique\n",
    "from sklearn.linear_model import LogisticRegression\n",
    "\n",
    "# Importation de la classe SVC de Scikit-learn pour les machines à vecteurs de support (SVM)\n",
    "from sklearn.svm import SVC"
   ]
  },
  {
   "cell_type": "code",
   "execution_count": null,
   "metadata": {},
   "outputs": [],
   "source": [
    "# Importation du module warnings pour gérer les avertissements\n",
    "import warnings\n",
    "\n",
    "# Ignorer les avertissements\n",
    "warnings.filterwarnings('ignore')\n",
    "\n",
    "# Création d'un modèle de régression logistique avec un paramètre de régularisation C=0.1\n",
    "lg = LogisticRegression(C=0.1)\n",
    "\n",
    "# Entraînement du modèle sur les données d'entraînement\n",
    "lg.fit(xtrain, ytrain)"
   ]
  },
  {
   "cell_type": "code",
   "execution_count": null,
   "metadata": {},
   "outputs": [],
   "source": [
    "# Création d'un modèle de machine à vecteurs de support (SVM)\n",
    "sv = SVC()\n",
    "\n",
    "# Entraînement du modèle sur les données d'entraînement\n",
    "sv.fit(xtrain, ytrain)"
   ]
  },
  {
   "cell_type": "code",
   "execution_count": null,
   "metadata": {},
   "outputs": [],
   "source": [
    "# Affichage du score d'entraînement du modèle de régression logistique\n",
    "print(\"Training score:\", lg.score(xtrain, ytrain))\n",
    "\n",
    "# Affichage du score de test du modèle de régression logistique\n",
    "print(\"Testing score:\", lg.score(xtest, ytest))"
   ]
  },
  {
   "cell_type": "code",
   "execution_count": null,
   "metadata": {},
   "outputs": [],
   "source": [
    "# Affichage du score d'entraînement du modèle SVM\n",
    "print(\"Training score:\", sv.score(xtrain, ytrain))\n",
    "\n",
    "# Affichage du score de test du modèle SVM\n",
    "print(\"Testing score:\", sv.score(xtest, ytest))"
   ]
  },
  {
   "cell_type": "code",
   "execution_count": null,
   "metadata": {},
   "outputs": [],
   "source": [
    "# Dictionnaire pour décoder les prédictions du modèle en étiquettes lisibles\n",
    "dec = {0: 'No Tumor', 1: 'Positive Tumor'}"
   ]
  },
  {
   "cell_type": "code",
   "execution_count": null,
   "metadata": {},
   "outputs": [],
   "source": [
    "# Création d'une nouvelle figure pour la visualisation\n",
    "plt.figure(figsize=(12, 8))\n",
    "\n",
    "# Liste des fichiers dans le répertoire de test pour les images sans tumeur\n",
    "p = os.listdir(\"../Testing/no_tumor\")\n",
    "c = 1\n",
    "\n",
    "# Parcours des premiers 9 fichiers dans le répertoire de test pour les images sans tumeur\n",
    "for i in os.listdir(\"../Testing/no_tumor\")[:9]:\n",
    "    plt.subplot(3, 3, c)\n",
    "\n",
    "    # Lecture de l'image en niveaux de gris\n",
    "    img = cv2.imread(\"../Testing/no_tumor/\" + i, 0)\n",
    "    \n",
    "    # Redimensionnement de l'image à 200x200 pixels\n",
    "    img = cv2.resize(img, (200, 200))\n",
    "    \n",
    "    # Redimensionnement de l'image pour correspondre au format d'entrée du modèle et normalisation\n",
    "    img = img.reshape(1, -1) / 255\n",
    "    \n",
    "    # Prédiction de la classe de l'image\n",
    "    pred = lg.predict(img)\n",
    "    \n",
    "    # Affichage de l'image avec le titre correspondant à la prédiction\n",
    "    plt.title(dec[pred[0]])\n",
    "    plt.imshow(img.reshape(200, 200), cmap='gray')\n",
    "    plt.axis('off')\n",
    "    c += 1\n",
    "\n",
    "# Affichage de la figure\n",
    "plt.show()"
   ]
  },
  {
   "cell_type": "code",
   "execution_count": 26,
   "metadata": {},
   "outputs": [
    {
     "ename": "FileNotFoundError",
     "evalue": "[WinError 3] The system cannot find the path specified: '../Testing/pituitary_tumor'",
     "output_type": "error",
     "traceback": [
      "\u001b[1;31m---------------------------------------------------------------------------\u001b[0m",
      "\u001b[1;31mFileNotFoundError\u001b[0m                         Traceback (most recent call last)",
      "Cell \u001b[1;32mIn[26], line 5\u001b[0m\n\u001b[0;32m      2\u001b[0m plt\u001b[38;5;241m.\u001b[39mfigure(figsize\u001b[38;5;241m=\u001b[39m(\u001b[38;5;241m12\u001b[39m, \u001b[38;5;241m8\u001b[39m))\n\u001b[0;32m      4\u001b[0m \u001b[38;5;66;03m# Liste des fichiers dans le répertoire de test\u001b[39;00m\n\u001b[1;32m----> 5\u001b[0m p \u001b[38;5;241m=\u001b[39m \u001b[43mos\u001b[49m\u001b[38;5;241;43m.\u001b[39;49m\u001b[43mlistdir\u001b[49m\u001b[43m(\u001b[49m\u001b[38;5;124;43m\"\u001b[39;49m\u001b[38;5;124;43m../Testing/pituitary_tumor\u001b[39;49m\u001b[38;5;124;43m\"\u001b[39;49m\u001b[43m)\u001b[49m\n\u001b[0;32m      6\u001b[0m c \u001b[38;5;241m=\u001b[39m \u001b[38;5;241m1\u001b[39m\n\u001b[0;32m      8\u001b[0m \u001b[38;5;66;03m# Parcours des premiers 16 fichiers dans le répertoire de test pour les images de tumeur pituitaire\u001b[39;00m\n",
      "\u001b[1;31mFileNotFoundError\u001b[0m: [WinError 3] The system cannot find the path specified: '../Testing/pituitary_tumor'"
     ]
    },
    {
     "data": {
      "text/plain": [
       "<Figure size 1200x800 with 0 Axes>"
      ]
     },
     "metadata": {},
     "output_type": "display_data"
    }
   ],
   "source": [
    "# Création d'une nouvelle figure pour la visualisation\n",
    "plt.figure(figsize=(12, 8))\n",
    "\n",
    "# Liste des fichiers dans le répertoire de test\n",
    "p = os.listdir(\"../Testing/\")\n",
    "c = 1\n",
    "\n",
    "# Parcours des premiers 16 fichiers dans le répertoire de test pour les images de tumeur pituitaire\n",
    "for i in os.listdir(\"../Testing/pituitary_tumor\")[:16]:\n",
    "    plt.subplot(4, 4, c)\n",
    "    \n",
    "    # Lecture de l'image en niveaux de gris\n",
    "    img = cv2.imread(\"../Testing/pituitary_tumor/\" + i, 0)\n",
    "    \n",
    "    # Redimensionnement de l'image à 200x200 pixels\n",
    "    img1 = cv2.resize(img, (200, 200))\n",
    "    \n",
    "    # Redimensionnement de l'image pour correspondre au format d'entrée du modèle et normalisation\n",
    "    img1 = img1.reshape(1, -1) / 255\n",
    "    \n",
    "    # Prédiction de la classe de l'image\n",
    "    p = sv.predict(img1)\n",
    "    \n",
    "    # Affichage de l'image avec le titre correspondant à la prédiction\n",
    "    plt.title(dec[p[0]])\n",
    "    plt.imshow(img, cmap='gray')\n",
    "    plt.axis('off')\n",
    "    c += 1\n",
    "\n",
    "# Affichage de la figure\n",
    "plt.show()"
   ]
  },
  {
   "cell_type": "code",
   "execution_count": null,
   "metadata": {},
   "outputs": [],
   "source": []
  }
 ],
 "metadata": {
  "kernelspec": {
   "display_name": "Python 3 (ipykernel)",
   "language": "python",
   "name": "python3"
  },
  "language_info": {
   "codemirror_mode": {
    "name": "ipython",
    "version": 3
   },
   "file_extension": ".py",
   "mimetype": "text/x-python",
   "name": "python",
   "nbconvert_exporter": "python",
   "pygments_lexer": "ipython3",
   "version": "3.12.4"
  }
 },
 "nbformat": 4,
 "nbformat_minor": 4
}
